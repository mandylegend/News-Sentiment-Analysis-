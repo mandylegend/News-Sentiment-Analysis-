{
 "cells": [
  {
   "cell_type": "code",
   "execution_count": 100,
   "id": "ed5ac798",
   "metadata": {},
   "outputs": [],
   "source": [
    "import pandas as pd\n",
    "import requests\n",
    "import nltk\n",
    "from nltk.sentiment.vader import SentimentIntensityAnalyzer\n",
    "from transformers import pipeline\n",
    "import streamlit as st  \n",
    "import string\n",
    "from nltk.corpus import stopwords"
   ]
  },
  {
   "cell_type": "code",
   "execution_count": 101,
   "id": "28ddb1d7",
   "metadata": {},
   "outputs": [
    {
     "name": "stderr",
     "output_type": "stream",
     "text": [
      "[nltk_data] Downloading package vader_lexicon to\n",
      "[nltk_data]     C:\\Users\\Mandar\\AppData\\Roaming\\nltk_data...\n",
      "[nltk_data]   Package vader_lexicon is already up-to-date!\n"
     ]
    },
    {
     "data": {
      "text/plain": [
       "True"
      ]
     },
     "execution_count": 101,
     "metadata": {},
     "output_type": "execute_result"
    }
   ],
   "source": [
    "nltk.download('vader_lexicon')"
   ]
  },
  {
   "cell_type": "markdown",
   "id": "b5914f3e",
   "metadata": {},
   "source": [
    "## test"
   ]
  },
  {
   "cell_type": "code",
   "execution_count": 102,
   "id": "9bd1ae34",
   "metadata": {},
   "outputs": [
    {
     "data": {
      "text/plain": [
       "{'neg': 0.0, 'neu': 0.308, 'pos': 0.692, 'compound': 0.6696}"
      ]
     },
     "execution_count": 102,
     "metadata": {},
     "output_type": "execute_result"
    }
   ],
   "source": [
    "sia = SentimentIntensityAnalyzer()\n",
    "\n",
    "sia.polarity_scores(\"I love this movie!\")"
   ]
  },
  {
   "cell_type": "markdown",
   "id": "d4fa07ae",
   "metadata": {},
   "source": [
    "# main workflow"
   ]
  },
  {
   "cell_type": "code",
   "execution_count": 103,
   "id": "526a3a82",
   "metadata": {},
   "outputs": [],
   "source": [
    "NEWS_API_KEY = 'a19fd3616a004b6da4f52442a4c659bc'  # Replace with your News API key\n",
    "NEWS_API_URL = \"https://newsapi.org/v2/everything\""
   ]
  },
  {
   "cell_type": "markdown",
   "id": "485dd85c",
   "metadata": {},
   "source": [
    "## Fetch API key"
   ]
  },
  {
   "cell_type": "code",
   "execution_count": 104,
   "id": "eba144fa",
   "metadata": {},
   "outputs": [],
   "source": [
    "# Function to fetch news articles from the News API\n",
    "def fetch_api(query, page_size=100):\n",
    "    params = {\n",
    "        'q' : 'query',\n",
    "        'apiKey': NEWS_API_KEY,\n",
    "        'language': 'en',   \n",
    "        'pageSize': page_size,\n",
    "        'sortBy': 'publishedAt'\n",
    "    }\n",
    "    response = requests.get(NEWS_API_URL, params=params)\n",
    "    if response.status_code == 200:\n",
    "        return response.json()\n",
    "    else:\n",
    "        raise Exception(f\"Error fetching data from News API: {response.status_code}\")\n"
   ]
  },
  {
   "cell_type": "markdown",
   "id": "ff31aa39",
   "metadata": {},
   "source": [
    "## Preprocessing with example"
   ]
  },
  {
   "cell_type": "code",
   "execution_count": 105,
   "id": "94928560",
   "metadata": {},
   "outputs": [
    {
     "name": "stdout",
     "output_type": "stream",
     "text": [
      "sample text\n",
      "like play football\n"
     ]
    },
    {
     "name": "stderr",
     "output_type": "stream",
     "text": [
      "[nltk_data] Downloading package stopwords to\n",
      "[nltk_data]     C:\\Users\\Mandar\\AppData\\Roaming\\nltk_data...\n",
      "[nltk_data]   Package stopwords is already up-to-date!\n"
     ]
    }
   ],
   "source": [
    "nltk.download('stopwords')  # Download the stopwords dataset\n",
    "\n",
    "def preprocess_text(text):\n",
    "    # Remove any unwanted characters or HTML tags\n",
    "    text = text.translate(str.maketrans('', '', string.punctuation))\n",
    "    text = text.lower()\n",
    "    \n",
    "    stop_words = set(stopwords.words('english'))\n",
    "    text = ' '.join([word for word in text.split() if word not in stop_words])\n",
    "    return text\n",
    "\n",
    "#example usage\n",
    "print(preprocess_text(\"This is a sample text!\"))\n",
    "print(preprocess_text('I like to play football.'))"
   ]
  },
  {
   "cell_type": "markdown",
   "id": "02694f82",
   "metadata": {},
   "source": [
    "## Vader model with example"
   ]
  },
  {
   "cell_type": "code",
   "execution_count": 106,
   "id": "3ddad81b",
   "metadata": {},
   "outputs": [
    {
     "name": "stdout",
     "output_type": "stream",
     "text": [
      "positive\n",
      "negative\n"
     ]
    }
   ],
   "source": [
    "def vader_sentiment(text):\n",
    "\n",
    "    model = SentimentIntensityAnalyzer()\n",
    "    sentiment_score = model.polarity_scores(text)\n",
    "    if sentiment_score['compound'] >= 0.05:\n",
    "        return 'positive'\n",
    "    elif sentiment_score['compound'] <= -0.05:\n",
    "        return 'negative'\n",
    "    else:\n",
    "        return 'neutral'\n",
    "    \n",
    "#example usage\n",
    "print(vader_sentiment(\"I love this Chocolate!\")) # Should return 'positive'\n",
    "print(vader_sentiment(\"I hate this Chocolate!\"))# Should return 'negative'\n"
   ]
  },
  {
   "cell_type": "markdown",
   "id": "19758535",
   "metadata": {},
   "source": [
    "## RoBERTo Model with example"
   ]
  },
  {
   "cell_type": "code",
   "execution_count": 107,
   "id": "3e5f12af",
   "metadata": {},
   "outputs": [
    {
     "name": "stdout",
     "output_type": "stream",
     "text": [
      "positive\n",
      "negative\n"
     ]
    }
   ],
   "source": [
    "def Roberta_sentiment(text):\n",
    "    model = pipeline(\"sentiment-analysis\", model=\"cardiffnlp/twitter-roberta-base-sentiment\")\n",
    "    sentiment_score = model(text)[0]\n",
    "    if sentiment_score['label'] == 'LABEL_2':\n",
    "        return 'positive'\n",
    "    elif sentiment_score['label'] == 'LABEL_0':\n",
    "        return 'negative'\n",
    "    else:\n",
    "        return 'neutral'\n",
    "\n",
    "#example usage\n",
    "print(vader_sentiment(\"I love this Chocolate!\")) # Should return 'positive'\n",
    "print(vader_sentiment(\"I hate this Chocolate!\"))# Should return 'negative'\n",
    "\n"
   ]
  }
 ],
 "metadata": {
  "kernelspec": {
   "display_name": "base",
   "language": "python",
   "name": "python3"
  },
  "language_info": {
   "codemirror_mode": {
    "name": "ipython",
    "version": 3
   },
   "file_extension": ".py",
   "mimetype": "text/x-python",
   "name": "python",
   "nbconvert_exporter": "python",
   "pygments_lexer": "ipython3",
   "version": "3.10.9"
  }
 },
 "nbformat": 4,
 "nbformat_minor": 5
}
